{
 "cells": [
  {
   "cell_type": "markdown",
   "metadata": {},
   "source": [
    "# Data 620 High Frequency Words\n",
    "\n",
    "**Tyler Baker and Rathish Parayil Sasidharan**\n",
    "1. Choose a corpus of interest.\n",
    "2. How many total unique words are in the corpus? (Please feel free to define unique words in any interesting, \n",
    "   defensible way).\n",
    "3. Taking the most common words, how many unique words represent half of the total words in the corpus?\n",
    "4. Identify the 200 highest frequency words in this corpus.\n",
    "5. Create a graph that shows the relative frequency of these 200 words.\n",
    "6. Does the observed relative frequency of these words follow Zipf’s law? Explain.\n",
    "7. In what ways do you think the frequency of the words in this corpus differ from “all words in all corpora.\n",
    "\n",
    "**Please find the link to the presentation**\n",
    "\n",
    "https://www.youtube.com/watch?v=6VJypl8srpg"
   ]
  },
  {
   "cell_type": "markdown",
   "metadata": {},
   "source": [
    "**Data Set **\n",
    "\n",
    "\"A TALE OF TWO CITIES\" by Charles Dickens\n",
    "\n",
    "Project Gutenberg https://www.gutenberg.org/files/98/98-0.txt\n",
    "\n",
    "**Data Preparation**\n"
   ]
  },
  {
   "cell_type": "code",
   "execution_count": 77,
   "metadata": {},
   "outputs": [],
   "source": [
    "import urllib, re, nltk, string\n",
    "import matplotlib.pyplot as plt\n",
    "% matplotlib inline\n",
    "\n",
    "\n",
    "response =''\n",
    "for line in urllib.request.urlopen('https://www.gutenberg.org/files/98/98-0.txt'):\n",
    "    response =response +line.decode('utf-8')\n",
    "    \n",
    "\n",
    "raw = response[813:774401]"
   ]
  },
  {
   "cell_type": "markdown",
   "metadata": {},
   "source": [
    "**Text Preparation**\n",
    "\n",
    "Now we read the data from the website, we need to convert them into words for further processing.\n",
    "We will be using regular expression for that\n"
   ]
  },
  {
   "cell_type": "code",
   "execution_count": 78,
   "metadata": {},
   "outputs": [],
   "source": [
    "pattern = r'\\w{2,}' #we want to remove unwanted characters like *, # etc\n",
    "tokens = nltk.regexp_tokenize(raw, pattern)\n",
    "text = nltk.Text(tokens)"
   ]
  },
  {
   "cell_type": "markdown",
   "metadata": {},
   "source": [
    "**Lemmatization**"
   ]
  },
  {
   "cell_type": "markdown",
   "metadata": {},
   "source": [
    "Lemmatization is the process of grouping together the different inflected forms of a word so they can be analyzed as a single item.  Lemmatization is similar to stemming but it brings context to the words. \n",
    "So it links words with similar meanings to one word. "
   ]
  },
  {
   "cell_type": "code",
   "execution_count": 79,
   "metadata": {},
   "outputs": [
    {
     "data": {
      "text/plain": [
       "['start',\n",
       " 'of',\n",
       " 'the',\n",
       " 'project',\n",
       " 'gutenberg',\n",
       " 'ebook',\n",
       " 'tale',\n",
       " 'of',\n",
       " 'two',\n",
       " 'city']"
      ]
     },
     "execution_count": 79,
     "metadata": {},
     "output_type": "execute_result"
    }
   ],
   "source": [
    "text = [word.lower() for word in text]\n",
    "\n",
    "wnl = nltk.WordNetLemmatizer()\n",
    "text = [wnl.lemmatize(t) for t in text]\n",
    "text[:10]"
   ]
  },
  {
   "cell_type": "markdown",
   "metadata": {},
   "source": [
    "**2. How many total unique words are in the corpus?**"
   ]
  },
  {
   "cell_type": "code",
   "execution_count": 80,
   "metadata": {},
   "outputs": [
    {
     "name": "stdout",
     "output_type": "stream",
     "text": [
      "Unique Words:  8774\n"
     ]
    }
   ],
   "source": [
    "#set will remove the duplicates\n",
    "uniqueWords = len(set(text))\n",
    "print(\"Unique Words: \", uniqueWords)"
   ]
  },
  {
   "cell_type": "markdown",
   "metadata": {},
   "source": [
    "**3. Taking the most common words, how many unique words represent half of the total words in the corpus? **"
   ]
  },
  {
   "cell_type": "code",
   "execution_count": 81,
   "metadata": {},
   "outputs": [
    {
     "name": "stdout",
     "output_type": "stream",
     "text": [
      "Lexical Diversity:  0.06620637615544236\n",
      "Number of Words in Corpus:  132525.0\n"
     ]
    }
   ],
   "source": [
    "totalWordCnt = float(len(text))\n",
    "print(\"Lexical Diversity: \", len(set(text)) / totalWordCnt)\n",
    "print(\"Number of Words in Corpus: \", totalWordCnt)"
   ]
  },
  {
   "cell_type": "code",
   "execution_count": 82,
   "metadata": {},
   "outputs": [
    {
     "name": "stdout",
     "output_type": "stream",
     "text": [
      "the    6.08%  \n",
      "and    9.85%  \n",
      "of   12.88%  \n",
      "to   15.57%  \n",
      "in   17.54%  \n",
      "it   19.26%  \n",
      "his   20.78%  \n",
      "that   22.24%  \n",
      "he   23.64%  \n",
      "wa   24.97%  \n",
      "you   26.04%  \n",
      "with   27.03%  \n",
      "had   28.01%  \n",
      "a   28.89%  \n",
      "her   29.68%  \n",
      "at   30.46%  \n",
      "him   31.19%  \n",
      "for   31.92%  \n",
      "on   32.62%  \n",
      "not   33.26%  \n",
      "is   33.88%  \n",
      "be   34.46%  \n",
      "have   35.02%  \n",
      "were   35.52%  \n",
      "said   36.02%  \n",
      "but   36.52%  \n",
      "my   37.01%  \n",
      "mr   37.49%  \n",
      "so   37.94%  \n",
      "there   38.38%  \n",
      "by   38.82%  \n",
      "they   39.24%  \n",
      "all   39.66%  \n",
      "this   40.08%  \n",
      "no   40.49%  \n",
      "me   40.89%  \n",
      "from   41.27%  \n",
      "if   41.62%  \n",
      "she   41.97%  \n",
      "out   42.31%  \n",
      "one   42.64%  \n",
      "been   42.97%  \n",
      "when   43.30%  \n",
      "which   43.62%  \n",
      "them   43.92%  \n",
      "what   44.21%  \n",
      "who   44.50%  \n",
      "lorry   44.78%  \n",
      "hand   45.05%  \n",
      "or   45.33%  \n",
      "an   45.59%  \n",
      "would   45.85%  \n",
      "your   46.10%  \n",
      "into   46.34%  \n",
      "time   46.58%  \n",
      "up   46.82%  \n",
      "their   47.06%  \n",
      "are   47.29%  \n",
      "defarge   47.52%  \n",
      "do   47.75%  \n",
      "man   47.97%  \n",
      "will   48.19%  \n",
      "upon   48.41%  \n",
      "could   48.62%  \n",
      "little   48.83%  \n",
      "more   49.02%  \n",
      "now   49.22%  \n",
      "then   49.42%  \n",
      "day   49.61%  \n",
      "know   49.80%  \n",
      "face   49.98%  \n",
      "down   50.16%  \n",
      "Number of words which makes half is = 72\n"
     ]
    }
   ],
   "source": [
    "wordFreq = nltk.FreqDist(text)\n",
    "cumulative = 0\n",
    "index1 =0\n",
    "for word, rank in wordFreq.most_common():\n",
    "    cumulative += rank \n",
    "    index1 =index1 +1\n",
    "    print (\"%s  %6.2f%%  \" % (word,(cumulative/totalWordCnt)*100))\n",
    "    if cumulative > totalWordCnt/2:\n",
    "        break\n",
    "\n",
    "print(\"Number of words which makes half is = %d\" %(index1) )       "
   ]
  },
  {
   "cell_type": "markdown",
   "metadata": {},
   "source": [
    "We could see that 72 unique words makes half of the total words in the corpus"
   ]
  },
  {
   "cell_type": "markdown",
   "metadata": {},
   "source": [
    "**4. Identify the 200 highest frequency words in this corpus\"**\n",
    "\n",
    "We could use the mos_common(200) from FreqDist to identify the top 200 common words"
   ]
  },
  {
   "cell_type": "code",
   "execution_count": 83,
   "metadata": {},
   "outputs": [
    {
     "data": {
      "text/plain": [
       "[('the', 8054),\n",
       " ('and', 4999),\n",
       " ('of', 4016),\n",
       " ('to', 3571),\n",
       " ('in', 2602),\n",
       " ('it', 2287),\n",
       " ('his', 2008),\n",
       " ('that', 1935),\n",
       " ('he', 1855),\n",
       " ('wa', 1770),\n",
       " ('you', 1411),\n",
       " ('with', 1311),\n",
       " ('had', 1305),\n",
       " ('a', 1163),\n",
       " ('her', 1043),\n",
       " ('at', 1034),\n",
       " ('him', 976),\n",
       " ('for', 961),\n",
       " ('on', 927),\n",
       " ('not', 855),\n",
       " ('is', 821),\n",
       " ('be', 766),\n",
       " ('have', 743),\n",
       " ('were', 661),\n",
       " ('said', 661),\n",
       " ('but', 659),\n",
       " ('my', 655),\n",
       " ('mr', 640),\n",
       " ('so', 593),\n",
       " ('there', 585),\n",
       " ('by', 573),\n",
       " ('they', 564),\n",
       " ('all', 555),\n",
       " ('this', 554),\n",
       " ('no', 543),\n",
       " ('me', 527),\n",
       " ('from', 514),\n",
       " ('if', 461),\n",
       " ('she', 460),\n",
       " ('out', 449),\n",
       " ('one', 442),\n",
       " ('been', 440),\n",
       " ('when', 439),\n",
       " ('which', 421),\n",
       " ('them', 399),\n",
       " ('what', 383),\n",
       " ('who', 380),\n",
       " ('lorry', 369),\n",
       " ('hand', 364),\n",
       " ('or', 364),\n",
       " ('an', 347),\n",
       " ('would', 343),\n",
       " ('your', 331),\n",
       " ('into', 319),\n",
       " ('time', 318),\n",
       " ('up', 318),\n",
       " ('their', 317),\n",
       " ('are', 314),\n",
       " ('defarge', 302),\n",
       " ('do', 300),\n",
       " ('man', 300),\n",
       " ('will', 291),\n",
       " ('upon', 289),\n",
       " ('could', 282),\n",
       " ('little', 267),\n",
       " ('more', 264),\n",
       " ('now', 262),\n",
       " ('then', 257),\n",
       " ('day', 256),\n",
       " ('know', 254),\n",
       " ('face', 241),\n",
       " ('down', 241),\n",
       " ('miss', 233),\n",
       " ('night', 231),\n",
       " ('before', 231),\n",
       " ('some', 229),\n",
       " ('two', 228),\n",
       " ('again', 228),\n",
       " ('doctor', 226),\n",
       " ('any', 224),\n",
       " ('am', 224),\n",
       " ('good', 222),\n",
       " ('himself', 222),\n",
       " ('head', 217),\n",
       " ('very', 217),\n",
       " ('than', 216),\n",
       " ('like', 214),\n",
       " ('way', 204),\n",
       " ('see', 202),\n",
       " ('eye', 199),\n",
       " ('father', 197),\n",
       " ('looked', 195),\n",
       " ('long', 194),\n",
       " ('never', 194),\n",
       " ('madame', 193),\n",
       " ('old', 188),\n",
       " ('here', 188),\n",
       " ('say', 187),\n",
       " ('made', 186),\n",
       " ('much', 185),\n",
       " ('these', 185),\n",
       " ('other', 184),\n",
       " ('life', 180),\n",
       " ('over', 180),\n",
       " ('well', 180),\n",
       " ('such', 178),\n",
       " ('come', 172),\n",
       " ('we', 170),\n",
       " ('prisoner', 169),\n",
       " ('door', 163),\n",
       " ('manette', 163),\n",
       " ('did', 162),\n",
       " ('pro', 162),\n",
       " ('about', 161),\n",
       " ('great', 161),\n",
       " ('own', 160),\n",
       " ('look', 160),\n",
       " ('through', 159),\n",
       " ('ha', 159),\n",
       " ('how', 159),\n",
       " ('where', 158),\n",
       " ('carton', 157),\n",
       " ('go', 154),\n",
       " ('nothing', 151),\n",
       " ('darnay', 148),\n",
       " ('word', 145),\n",
       " ('might', 144),\n",
       " ('can', 144),\n",
       " ('street', 144),\n",
       " ('people', 142),\n",
       " ('under', 142),\n",
       " ('many', 142),\n",
       " ('came', 141),\n",
       " ('after', 138),\n",
       " ('back', 137),\n",
       " ('should', 137),\n",
       " ('last', 136),\n",
       " ('being', 135),\n",
       " ('another', 135),\n",
       " ('woman', 135),\n",
       " ('away', 134),\n",
       " ('business', 134),\n",
       " ('don', 134),\n",
       " ('place', 130),\n",
       " ('three', 129),\n",
       " ('lucie', 129),\n",
       " ('mind', 128),\n",
       " ('even', 127),\n",
       " ('house', 127),\n",
       " ('looking', 127),\n",
       " ('may', 127),\n",
       " ('think', 127),\n",
       " ('young', 127),\n",
       " ('monsieur', 126),\n",
       " ('year', 124),\n",
       " ('dear', 123),\n",
       " ('every', 122),\n",
       " ('cruncher', 122),\n",
       " ('wine', 121),\n",
       " ('only', 121),\n",
       " ('yes', 120),\n",
       " ('ever', 119),\n",
       " ('turned', 119),\n",
       " ('first', 118),\n",
       " ('room', 118),\n",
       " ('too', 118),\n",
       " ('child', 117),\n",
       " ('thing', 116),\n",
       " ('arm', 114),\n",
       " ('seen', 114),\n",
       " ('put', 111),\n",
       " ('those', 110),\n",
       " ('name', 110),\n",
       " ('monseigneur', 109),\n",
       " ('yet', 109),\n",
       " ('went', 109),\n",
       " ('took', 109),\n",
       " ('let', 109),\n",
       " ('u', 108),\n",
       " ('jerry', 108),\n",
       " ('stryver', 108),\n",
       " ('among', 107),\n",
       " ('road', 106),\n",
       " ('without', 105),\n",
       " ('gentleman', 105),\n",
       " ('always', 105),\n",
       " ('light', 103),\n",
       " ('our', 102),\n",
       " ('left', 102),\n",
       " ('wife', 102),\n",
       " ('sir', 101),\n",
       " ('must', 101),\n",
       " ('charles', 100),\n",
       " ('still', 100),\n",
       " ('though', 100),\n",
       " ('voice', 100),\n",
       " ('off', 99),\n",
       " ('sat', 99),\n",
       " ('husband', 99),\n",
       " ('done', 98)]"
      ]
     },
     "execution_count": 83,
     "metadata": {},
     "output_type": "execute_result"
    }
   ],
   "source": [
    "wordFreq = nltk.FreqDist(text)\n",
    "top200 = wordFreq.most_common(200)\n",
    "top200"
   ]
  },
  {
   "cell_type": "code",
   "execution_count": 84,
   "metadata": {},
   "outputs": [
    {
     "data": {
      "image/png": "[encoded data removed]",
      "text/plain": [
       "<Figure size 1080x576 with 1 Axes>"
      ]
     },
     "metadata": {},
     "output_type": "display_data"
    }
   ],
   "source": [
    "plt.figure(figsize=(15,8))\n",
    "wordFreq.plot(50, cumulative=True)"
   ]
  },
  {
   "cell_type": "markdown",
   "metadata": {},
   "source": [
    "**5. Create a graph that shows the relative frequency of these 200 words.**"
   ]
  },
  {
   "cell_type": "code",
   "execution_count": 85,
   "metadata": {},
   "outputs": [
    {
     "data": {
      "image/png": "[encoded data removed]",
      "text/plain": [
       "<Figure size 1080x576 with 1 Axes>"
      ]
     },
     "metadata": {},
     "output_type": "display_data"
    }
   ],
   "source": [
    "plt.figure(figsize=(15,8))\n",
    "wordFreq.plot(50)"
   ]
  },
  {
   "cell_type": "markdown",
   "metadata": {},
   "source": [
    "**Does the observed relative frequency of these words follow Zipf’s law? Explain**\n",
    "\n",
    "Zipf’s Law states that the frequency of a word type is inversely proportional to its rank \n",
    "Suppose that all the words of a text are ranked according to their frequency, with the most frequent\n",
    "word first. For example, the 50th most common word type should occur three times as frequently as the 150th most\n",
    "common word type"
   ]
  },
  {
   "cell_type": "code",
   "execution_count": 76,
   "metadata": {},
   "outputs": [
    {
     "data": {
      "image/png": "[encoded data removed]",
      "text/plain": [
       "<Figure size 1224x720 with 1 Axes>"
      ]
     },
     "metadata": {},
     "output_type": "display_data"
    }
   ],
   "source": [
    "zipf_data = top_words = wordFreq.most_common(500)\n",
    "x = [w+1 for w in range(len(zipf_data))]\n",
    "y = [freq for (word,freq) in zipf_data]\n",
    "\n",
    "\n",
    "plt.figure(1, figsize=(17,10))\n",
    "plt.semilogy(x, y)\n",
    "plt.show()\n",
    "\n"
   ]
  },
  {
   "cell_type": "markdown",
   "metadata": {},
   "source": [
    "We could see that there is drop in frequency as , but not exactly proportional to their ranking."
   ]
  },
  {
   "cell_type": "markdown",
   "metadata": {},
   "source": [
    "**In what ways do you think the frequency of the words in this corpus differ from \"all words in all corpora\"?**"
   ]
  },
  {
   "cell_type": "markdown",
   "metadata": {},
   "source": [
    "As per our analysis the words in this corpora doesnot differ with the words in other corpara. I think they all follow almost the same pattern"
   ]
  },
  {
   "cell_type": "code",
   "execution_count": null,
   "metadata": {},
   "outputs": [],
   "source": []
  }
 ],
 "metadata": {
  "hide_input": false,
  "kernelspec": {
   "display_name": "Python 3",
   "language": "python",
   "name": "python3"
  },
  "language_info": {
   "codemirror_mode": {
    "name": "ipython",
    "version": 3
   },
   "file_extension": ".py",
   "mimetype": "text/x-python",
   "name": "python",
   "nbconvert_exporter": "python",
   "pygments_lexer": "ipython3",
   "version": "3.6.6"
  }
 },
 "nbformat": 4,
 "nbformat_minor": 2
}
